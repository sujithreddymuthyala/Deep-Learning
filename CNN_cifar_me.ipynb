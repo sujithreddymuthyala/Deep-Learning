{
 "cells": [
  {
   "cell_type": "code",
   "execution_count": 1,
   "metadata": {},
   "outputs": [],
   "source": [
    "import numpy as np\n",
    "import pandas as pd\n",
    "import matplotlib.pyplot as plt\n",
    "import warnings\n",
    "warnings.filterwarnings(\"ignore\")"
   ]
  },
  {
   "cell_type": "markdown",
   "metadata": {},
   "source": [
    "### Importing Dataset"
   ]
  },
  {
   "cell_type": "code",
   "execution_count": 2,
   "metadata": {},
   "outputs": [],
   "source": [
    "from tensorflow.keras.datasets import cifar10\n",
    "(x_train,y_train),(x_test,y_test)=cifar10.load_data()"
   ]
  },
  {
   "cell_type": "code",
   "execution_count": 3,
   "metadata": {},
   "outputs": [
    {
     "data": {
      "text/plain": [
       "(50000, 32, 32, 3)"
      ]
     },
     "execution_count": 3,
     "metadata": {},
     "output_type": "execute_result"
    }
   ],
   "source": [
    "x_train.shape"
   ]
  },
  {
   "cell_type": "code",
   "execution_count": 4,
   "metadata": {},
   "outputs": [
    {
     "data": {
      "text/plain": [
       "(50000, 1)"
      ]
     },
     "execution_count": 4,
     "metadata": {},
     "output_type": "execute_result"
    }
   ],
   "source": [
    "y_train.shape"
   ]
  },
  {
   "cell_type": "code",
   "execution_count": 5,
   "metadata": {},
   "outputs": [
    {
     "data": {
      "text/plain": [
       "(10000, 32, 32, 3)"
      ]
     },
     "execution_count": 5,
     "metadata": {},
     "output_type": "execute_result"
    }
   ],
   "source": [
    "x_test.shape"
   ]
  },
  {
   "cell_type": "code",
   "execution_count": 6,
   "metadata": {},
   "outputs": [
    {
     "data": {
      "text/plain": [
       "(10000, 1)"
      ]
     },
     "execution_count": 6,
     "metadata": {},
     "output_type": "execute_result"
    }
   ],
   "source": [
    "y_test.shape"
   ]
  },
  {
   "cell_type": "markdown",
   "metadata": {},
   "source": [
    "### Reshaping y"
   ]
  },
  {
   "cell_type": "markdown",
   "metadata": {},
   "source": [
    "As we have 10 classes we need to reshape target variable. "
   ]
  },
  {
   "cell_type": "code",
   "execution_count": 4,
   "metadata": {},
   "outputs": [],
   "source": [
    "from tensorflow.keras.utils import to_categorical"
   ]
  },
  {
   "cell_type": "code",
   "execution_count": 5,
   "metadata": {},
   "outputs": [],
   "source": [
    "y_train=to_categorical(y_train,10)\n",
    "y_test=to_categorical(y_test,10)"
   ]
  },
  {
   "cell_type": "code",
   "execution_count": 6,
   "metadata": {},
   "outputs": [
    {
     "data": {
      "text/plain": [
       "(50000, 10)"
      ]
     },
     "execution_count": 6,
     "metadata": {},
     "output_type": "execute_result"
    }
   ],
   "source": [
    "y_train.shape"
   ]
  },
  {
   "cell_type": "code",
   "execution_count": 10,
   "metadata": {},
   "outputs": [
    {
     "data": {
      "text/plain": [
       "(10000, 10)"
      ]
     },
     "execution_count": 10,
     "metadata": {},
     "output_type": "execute_result"
    }
   ],
   "source": [
    "y_test.shape"
   ]
  },
  {
   "cell_type": "code",
   "execution_count": 11,
   "metadata": {},
   "outputs": [
    {
     "data": {
      "text/plain": [
       "(50000, 32, 32, 3)"
      ]
     },
     "execution_count": 11,
     "metadata": {},
     "output_type": "execute_result"
    }
   ],
   "source": [
    "x_train.shape"
   ]
  },
  {
   "cell_type": "code",
   "execution_count": 12,
   "metadata": {},
   "outputs": [
    {
     "data": {
      "text/plain": [
       "(10000, 32, 32, 3)"
      ]
     },
     "execution_count": 12,
     "metadata": {},
     "output_type": "execute_result"
    }
   ],
   "source": [
    "x_test.shape"
   ]
  },
  {
   "cell_type": "markdown",
   "metadata": {},
   "source": [
    "### Normalizing "
   ]
  },
  {
   "cell_type": "code",
   "execution_count": 7,
   "metadata": {},
   "outputs": [],
   "source": [
    "x_train = x_train / 255.0\n",
    "x_test = x_test / 255.0"
   ]
  },
  {
   "cell_type": "markdown",
   "metadata": {},
   "source": [
    "### Creating Model"
   ]
  },
  {
   "cell_type": "code",
   "execution_count": 9,
   "metadata": {},
   "outputs": [],
   "source": [
    "from tensorflow.keras import Sequential\n",
    "from tensorflow.keras.layers import Dense,Flatten,Conv2D"
   ]
  },
  {
   "cell_type": "code",
   "execution_count": 10,
   "metadata": {},
   "outputs": [],
   "source": [
    "#model=Sequential()\n",
    "#model.add(Conv2D(filters=32,kernel_size=3,input_shape=(32,32,3),activation='relu'))\n",
    "#model.add(Conv2D(filters=32,kernel_size=3,activation='relu'))\n",
    "#model.add(Flatten())\n",
    "#model.add(Dense(128,activation='relu'))\n",
    "#model.add(Dense(10,activation='softmax'))\n",
    "\n",
    "#model.compile(optimizer='sgd',loss='categorical_crossentropy',metrics=['accuracy'])\n",
    "\n",
    "\n",
    "#model.fit(x_train,y_train,epochs=5)\n",
    "\n",
    "#model.evaluate(x_train,y_train)\n",
    "\n",
    "#model.evaluate(x_test,y_test)"
   ]
  },
  {
   "cell_type": "markdown",
   "metadata": {},
   "source": [
    "### Model1"
   ]
  },
  {
   "cell_type": "code",
   "execution_count": 12,
   "metadata": {},
   "outputs": [],
   "source": [
    "from tensorflow.keras.layers import MaxPooling2D,Dropout"
   ]
  },
  {
   "cell_type": "code",
   "execution_count": 25,
   "metadata": {},
   "outputs": [],
   "source": [
    "model1=Sequential()\n",
    "model1.add(Conv2D(filters=32,kernel_size=3,input_shape=(32,32,3),activation='relu'))\n",
    "\n",
    "model1.add(MaxPooling2D(pool_size=(2,2)))\n",
    "\n",
    "model1.add(Conv2D(filters=32,kernel_size=3,activation='relu'))\n",
    "\n",
    "model1.add(MaxPooling2D(pool_size=(2, 2)))\n",
    "\n",
    "model1.add(Dropout(0.2))\n",
    "\n",
    "model1.add(Flatten())\n",
    "\n",
    "model1.add(Dense(128,activation='relu'))\n",
    "\n",
    "model1.add(Dense(10,activation='softmax'))\n"
   ]
  },
  {
   "cell_type": "code",
   "execution_count": 17,
   "metadata": {},
   "outputs": [
    {
     "name": "stdout",
     "output_type": "stream",
     "text": [
      "Model: \"sequential_2\"\n",
      "_________________________________________________________________\n",
      "Layer (type)                 Output Shape              Param #   \n",
      "=================================================================\n",
      "conv2d_6 (Conv2D)            (None, 30, 30, 32)        896       \n",
      "_________________________________________________________________\n",
      "max_pooling2d_5 (MaxPooling2 (None, 15, 15, 32)        0         \n",
      "_________________________________________________________________\n",
      "conv2d_7 (Conv2D)            (None, 13, 13, 32)        9248      \n",
      "_________________________________________________________________\n",
      "max_pooling2d_6 (MaxPooling2 (None, 6, 6, 32)          0         \n",
      "_________________________________________________________________\n",
      "dropout_3 (Dropout)          (None, 6, 6, 32)          0         \n",
      "_________________________________________________________________\n",
      "flatten_1 (Flatten)          (None, 1152)              0         \n",
      "_________________________________________________________________\n",
      "dense_2 (Dense)              (None, 128)               147584    \n",
      "_________________________________________________________________\n",
      "dense_3 (Dense)              (None, 10)                1290      \n",
      "=================================================================\n",
      "Total params: 159,018\n",
      "Trainable params: 159,018\n",
      "Non-trainable params: 0\n",
      "_________________________________________________________________\n"
     ]
    }
   ],
   "source": [
    "model1.summary()"
   ]
  },
  {
   "cell_type": "markdown",
   "metadata": {},
   "source": [
    "### Compiling the model"
   ]
  },
  {
   "cell_type": "code",
   "execution_count": 26,
   "metadata": {},
   "outputs": [],
   "source": [
    "model1.compile(optimizer='sgd',loss='categorical_crossentropy',metrics=['accuracy'])"
   ]
  },
  {
   "cell_type": "markdown",
   "metadata": {},
   "source": [
    "Evaluating the model before training the model"
   ]
  },
  {
   "cell_type": "code",
   "execution_count": 19,
   "metadata": {},
   "outputs": [
    {
     "name": "stdout",
     "output_type": "stream",
     "text": [
      "1563/1563 [==============================] - 11s 7ms/step - loss: 2.3250 - accuracy: 0.0947\n"
     ]
    },
    {
     "data": {
      "text/plain": [
       "[2.3249828815460205, 0.09474000334739685]"
      ]
     },
     "execution_count": 19,
     "metadata": {},
     "output_type": "execute_result"
    }
   ],
   "source": [
    "model1.evaluate(x_train,y_train)"
   ]
  },
  {
   "cell_type": "code",
   "execution_count": 42,
   "metadata": {},
   "outputs": [
    {
     "name": "stdout",
     "output_type": "stream",
     "text": [
      "313/313 [==============================] - 2s 7ms/step - loss: 2.3053 - accuracy: 0.0843\n"
     ]
    },
    {
     "data": {
      "text/plain": [
       "[2.3052990436553955, 0.08429999649524689]"
      ]
     },
     "execution_count": 42,
     "metadata": {},
     "output_type": "execute_result"
    }
   ],
   "source": [
    "model1.evaluate(x_test,y_test)"
   ]
  },
  {
   "cell_type": "code",
   "execution_count": 21,
   "metadata": {},
   "outputs": [],
   "source": [
    "from tensorflow.keras.callbacks import EarlyStopping\n",
    "es=EarlyStopping(monitor='val_accuracy',patience=2,min_delta=0.02)"
   ]
  },
  {
   "cell_type": "markdown",
   "metadata": {},
   "source": [
    "### Fitting the model"
   ]
  },
  {
   "cell_type": "code",
   "execution_count": 27,
   "metadata": {},
   "outputs": [
    {
     "name": "stdout",
     "output_type": "stream",
     "text": [
      "Epoch 1/20\n",
      "196/196 [==============================] - 17s 84ms/step - loss: 2.2748 - accuracy: 0.1489 - val_loss: 2.2272 - val_accuracy: 0.2176\n",
      "Epoch 2/20\n",
      "196/196 [==============================] - 16s 84ms/step - loss: 2.1596 - accuracy: 0.2107 - val_loss: 2.0561 - val_accuracy: 0.2653\n",
      "Epoch 3/20\n",
      "196/196 [==============================] - 17s 84ms/step - loss: 2.0355 - accuracy: 0.2558 - val_loss: 2.0022 - val_accuracy: 0.2813\n",
      "Epoch 4/20\n",
      "196/196 [==============================] - 17s 85ms/step - loss: 1.9826 - accuracy: 0.2794 - val_loss: 1.9790 - val_accuracy: 0.2852\n",
      "Epoch 5/20\n",
      "196/196 [==============================] - 17s 86ms/step - loss: 1.9430 - accuracy: 0.2996 - val_loss: 1.8946 - val_accuracy: 0.3266\n",
      "Epoch 6/20\n",
      "196/196 [==============================] - 17s 85ms/step - loss: 1.9015 - accuracy: 0.3186 - val_loss: 1.8639 - val_accuracy: 0.3367\n",
      "Epoch 7/20\n",
      "196/196 [==============================] - 17s 84ms/step - loss: 1.8505 - accuracy: 0.3401 - val_loss: 1.7962 - val_accuracy: 0.3692\n",
      "Epoch 8/20\n",
      "196/196 [==============================] - 17s 86ms/step - loss: 1.7982 - accuracy: 0.3597 - val_loss: 1.7379 - val_accuracy: 0.3906\n",
      "Epoch 9/20\n",
      "196/196 [==============================] - 17s 88ms/step - loss: 1.7532 - accuracy: 0.3739 - val_loss: 1.7052 - val_accuracy: 0.3945\n",
      "Epoch 10/20\n",
      "196/196 [==============================] - 17s 85ms/step - loss: 1.7170 - accuracy: 0.3843 - val_loss: 1.6707 - val_accuracy: 0.4044\n",
      "Epoch 11/20\n",
      "196/196 [==============================] - 17s 86ms/step - loss: 1.6764 - accuracy: 0.3977 - val_loss: 1.6076 - val_accuracy: 0.4259\n",
      "Epoch 12/20\n",
      "196/196 [==============================] - 17s 87ms/step - loss: 1.6431 - accuracy: 0.4086 - val_loss: 1.6064 - val_accuracy: 0.4242\n",
      "Epoch 13/20\n",
      "196/196 [==============================] - 17s 85ms/step - loss: 1.6135 - accuracy: 0.4195 - val_loss: 1.5545 - val_accuracy: 0.4458\n",
      "Epoch 14/20\n",
      "196/196 [==============================] - 17s 87ms/step - loss: 1.5921 - accuracy: 0.4284 - val_loss: 1.5611 - val_accuracy: 0.4367\n",
      "Epoch 15/20\n",
      "196/196 [==============================] - 18s 90ms/step - loss: 1.5686 - accuracy: 0.4360 - val_loss: 1.5351 - val_accuracy: 0.4493\n",
      "Epoch 16/20\n",
      "196/196 [==============================] - 17s 88ms/step - loss: 1.5440 - accuracy: 0.4457 - val_loss: 1.4896 - val_accuracy: 0.4676\n",
      "Epoch 17/20\n",
      "196/196 [==============================] - 17s 86ms/step - loss: 1.5252 - accuracy: 0.4525 - val_loss: 1.4719 - val_accuracy: 0.4726\n",
      "Epoch 18/20\n",
      "196/196 [==============================] - 17s 86ms/step - loss: 1.5024 - accuracy: 0.4607 - val_loss: 1.4902 - val_accuracy: 0.4630\n",
      "Epoch 19/20\n",
      "196/196 [==============================] - 17s 87ms/step - loss: 1.4859 - accuracy: 0.4666 - val_loss: 1.4475 - val_accuracy: 0.4803\n",
      "Epoch 20/20\n",
      "196/196 [==============================] - 17s 85ms/step - loss: 1.4728 - accuracy: 0.4729 - val_loss: 1.4732 - val_accuracy: 0.4712\n"
     ]
    },
    {
     "data": {
      "text/plain": [
       "<tensorflow.python.keras.callbacks.History at 0x26e79977040>"
      ]
     },
     "execution_count": 27,
     "metadata": {},
     "output_type": "execute_result"
    }
   ],
   "source": [
    "model1.fit(x_train,y_train,epochs=20,batch_size=256,validation_data=(x_test,y_test))"
   ]
  },
  {
   "cell_type": "markdown",
   "metadata": {},
   "source": [
    "### Evaluating the Model"
   ]
  },
  {
   "cell_type": "code",
   "execution_count": 28,
   "metadata": {},
   "outputs": [
    {
     "name": "stdout",
     "output_type": "stream",
     "text": [
      "1563/1563 [==============================] - 9s 6ms/step - loss: 1.4662 - accuracy: 0.4788\n"
     ]
    },
    {
     "data": {
      "text/plain": [
       "[1.4662426710128784, 0.4787999987602234]"
      ]
     },
     "execution_count": 28,
     "metadata": {},
     "output_type": "execute_result"
    }
   ],
   "source": [
    "model1.evaluate(x_train,y_train)"
   ]
  },
  {
   "cell_type": "code",
   "execution_count": 62,
   "metadata": {},
   "outputs": [
    {
     "name": "stdout",
     "output_type": "stream",
     "text": [
      "313/313 [==============================] - 3s 8ms/step - loss: 0.9842 - accuracy: 0.6615\n"
     ]
    },
    {
     "data": {
      "text/plain": [
       "[0.9842439293861389, 0.6614999771118164]"
      ]
     },
     "execution_count": 62,
     "metadata": {},
     "output_type": "execute_result"
    }
   ],
   "source": [
    "model1.evaluate(x_test,y_test)"
   ]
  },
  {
   "cell_type": "code",
   "execution_count": 29,
   "metadata": {},
   "outputs": [],
   "source": [
    "y_pred=model1.predict_classes(x_test)"
   ]
  },
  {
   "cell_type": "code",
   "execution_count": 40,
   "metadata": {},
   "outputs": [],
   "source": [
    "y_cls=[np.argmax(x) for x in y_pred]"
   ]
  },
  {
   "cell_type": "code",
   "execution_count": 57,
   "metadata": {},
   "outputs": [
    {
     "data": {
      "text/plain": [
       "[3, 1, 8, 8, 6, 6]"
      ]
     },
     "execution_count": 57,
     "metadata": {},
     "output_type": "execute_result"
    }
   ],
   "source": [
    "y_cls[:6]"
   ]
  },
  {
   "cell_type": "code",
   "execution_count": 45,
   "metadata": {},
   "outputs": [],
   "source": [
    "y_test_chk=[np.argmax(x) for x in y_test]"
   ]
  },
  {
   "cell_type": "code",
   "execution_count": 58,
   "metadata": {},
   "outputs": [
    {
     "data": {
      "text/plain": [
       "[3, 8, 8, 0, 6, 6]"
      ]
     },
     "execution_count": 58,
     "metadata": {},
     "output_type": "execute_result"
    }
   ],
   "source": [
    "y_test_chk[:6]"
   ]
  },
  {
   "cell_type": "code",
   "execution_count": null,
   "metadata": {},
   "outputs": [],
   "source": []
  }
 ],
 "metadata": {
  "kernelspec": {
   "display_name": "Python 3",
   "language": "python",
   "name": "python3"
  },
  "language_info": {
   "codemirror_mode": {
    "name": "ipython",
    "version": 3
   },
   "file_extension": ".py",
   "mimetype": "text/x-python",
   "name": "python",
   "nbconvert_exporter": "python",
   "pygments_lexer": "ipython3",
   "version": "3.8.5"
  }
 },
 "nbformat": 4,
 "nbformat_minor": 4
}
